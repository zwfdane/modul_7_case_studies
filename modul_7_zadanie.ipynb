{
 "cells": [
  {
   "cell_type": "raw",
   "id": "2fa5e0ca",
   "metadata": {},
   "source": [
    "Zamierzasz kupić mieszkanie. Upatrzone M kosztuje w tym momencie 120 tys. zł, jednak przewidujesz, że przez następne 5 lat ceny mieszkań będą rosły w tempie 5% rocznie. W tym momencie nie dysponujesz wystarczającymi środkami, dlatego znajdujesz ofertę banku, który proponuje lokatę, do której dopłacasz pewna stałą kwotę na koniec każdego miesiąca. Bank oferuje nominalną stopę procentową w wysokości 12% w skali roku, przy kapitalizacji miesięcznej.\n",
    "\n",
    "    Ile będzie wynosiła orientacyjna cena mieszkania za 5 lat?\n",
    "    Ile musisz wpłacać do banku każdego miesiąca, aby przy przedstawionej ofercie uzbierać na mieszkanie w ciągu 5 lat?\n",
    "    Stwórz wykres przedstawiający, jak w interwałach miesięcznych zmieniać się będzie cena mieszkania (liniowy wzrost w całym okresie) oraz wartość twojej lokaty.\n",
    "\n",
    "Do wykonania powyższego zadania wykorzystaj biblioteki NumPy, NumPy-financial oraz Matplotlib. Odpowiedzi na pytania umieść w Notebooku (jeśli korzystasz) lub w komentarzach w kodzie."
   ]
  },
  {
   "cell_type": "code",
   "execution_count": 56,
   "id": "67c16227",
   "metadata": {},
   "outputs": [],
   "source": [
    "import numpy as np\n",
    "import numpy_financial as npf\n",
    "price_m_now = 120000\n",
    "time_horizon = 5\n",
    "rate_m = 0.05"
   ]
  },
  {
   "cell_type": "raw",
   "id": "a4ed5236",
   "metadata": {},
   "source": [
    "Ze wzoru na procent składany przy założeniu, że ceny mieszkań aktualizują cię co roku (mało realne):"
   ]
  },
  {
   "cell_type": "code",
   "execution_count": 57,
   "id": "de3b2ca7",
   "metadata": {},
   "outputs": [
    {
     "data": {
      "text/plain": [
       "153153.79"
      ]
     },
     "execution_count": 57,
     "metadata": {},
     "output_type": "execute_result"
    }
   ],
   "source": [
    "price_m_5 = price_m_now *( (1+rate_m) ** time_horizon)\n",
    "price_est = np.around(price_m_5,2)\n",
    "price_est"
   ]
  },
  {
   "cell_type": "raw",
   "id": "bb65e61c",
   "metadata": {},
   "source": [
    "Jeżeli ma być wykorzystana biblioteka  NumPy-financial, to jedyna funkcja, która tutaj pasuje to npf.pmt. \n",
    "Porównałam działanie tej funkcji z odpowiednikiem EXCELOWSKIM (https://corporatefinanceinstitute.com/resources/excel/functions/pmt-function/). Wartość zgadza się z symulacją w EXCELU.\n"
   ]
  },
  {
   "cell_type": "code",
   "execution_count": 67,
   "id": "438ab94b",
   "metadata": {},
   "outputs": [
    {
     "name": "stdout",
     "output_type": "stream",
     "text": [
      "1875.28\n"
     ]
    }
   ],
   "source": [
    "freq = 12\n",
    "rate_b = 0.12\n",
    "monthly_capital = - npf.pmt(rate_b/freq, freq*time_horizon ,0, price_est)\n",
    "print(round(monthly_capital,2))\n"
   ]
  },
  {
   "cell_type": "code",
   "execution_count": 59,
   "id": "c9dbc784",
   "metadata": {},
   "outputs": [
    {
     "name": "stdout",
     "output_type": "stream",
     "text": [
      "120000.0\n",
      "120552.56\n",
      "121105.13\n",
      "121657.69\n",
      "122210.25\n",
      "122762.82\n",
      "123315.38\n",
      "123867.94\n",
      "124420.51\n",
      "124973.07\n",
      "125525.63\n",
      "126078.19\n",
      "126630.76\n",
      "127183.32\n",
      "127735.88\n",
      "128288.45\n",
      "128841.01\n",
      "129393.57\n",
      "129946.14\n",
      "130498.7\n",
      "131051.26\n",
      "131603.83\n",
      "132156.39\n",
      "132708.95\n",
      "133261.52\n",
      "133814.08\n",
      "134366.64\n",
      "134919.2\n",
      "135471.77\n",
      "136024.33\n",
      "136576.89\n",
      "137129.46\n",
      "137682.02\n",
      "138234.58\n",
      "138787.15\n",
      "139339.71\n",
      "139892.27\n",
      "140444.84\n",
      "140997.4\n",
      "141549.96\n",
      "142102.53\n",
      "142655.09\n",
      "143207.65\n",
      "143760.21\n",
      "144312.78\n",
      "144865.34\n",
      "145417.9\n",
      "145970.47\n",
      "146523.03\n",
      "147075.59\n",
      "147628.16\n",
      "148180.72\n",
      "148733.28\n",
      "149285.85\n",
      "149838.41\n",
      "150390.97\n",
      "150943.54\n",
      "151496.1\n",
      "152048.66\n",
      "152601.22\n",
      "153153.79\n"
     ]
    }
   ],
   "source": [
    "#Liniowy wzrost cen mieszkania w całym okresie.\n",
    "# Cena początkowa: 120 000 cena końcowa 153 153 \n",
    "a = (price_m_5-price_m_now)/(freq*time_horizon)\n",
    "b = price_m_now\n",
    "price_m_linear = []\n",
    "for t in range(0,freq*time_horizon+1):\n",
    "    price_m_linear.append(a*t+b)\n",
    "\n",
    "for price in price_m_linear:\n",
    "    print(round(price,2))\n",
    "  \n",
    "    "
   ]
  },
  {
   "cell_type": "code",
   "execution_count": 63,
   "id": "785c61bc",
   "metadata": {},
   "outputs": [
    {
     "name": "stdout",
     "output_type": "stream",
     "text": [
      "1875.28\n",
      "3769.32\n",
      "5682.3\n",
      "7614.4\n",
      "9565.83\n",
      "11536.77\n",
      "13527.42\n",
      "15537.98\n",
      "17568.65\n",
      "19619.62\n",
      "21691.1\n",
      "23783.29\n",
      "25896.41\n",
      "28030.65\n",
      "30186.24\n",
      "32363.39\n",
      "34562.31\n",
      "36783.21\n",
      "39026.33\n",
      "41291.88\n",
      "43580.08\n",
      "45891.16\n",
      "48225.36\n",
      "50582.9\n",
      "52964.01\n",
      "55368.93\n",
      "57797.9\n",
      "60251.17\n",
      "62728.96\n",
      "65231.54\n",
      "67759.13\n",
      "70312.01\n",
      "72890.41\n",
      "75494.6\n",
      "78124.83\n",
      "80781.36\n",
      "83464.46\n",
      "86174.39\n",
      "88911.42\n",
      "91675.81\n",
      "94467.85\n",
      "97287.82\n",
      "100135.98\n",
      "103012.62\n",
      "105918.03\n",
      "108852.5\n",
      "111816.3\n",
      "114809.75\n",
      "117833.13\n",
      "120886.75\n",
      "123970.9\n",
      "127085.89\n",
      "130232.03\n",
      "133409.64\n",
      "136619.02\n",
      "139860.49\n",
      "143134.38\n",
      "146441.01\n",
      "149780.7\n",
      "153153.79\n"
     ]
    }
   ],
   "source": [
    "# Wartość lokaty\n",
    "deposit_value = []\n",
    "current_value = 0\n",
    "for t in range(1,freq*time_horizon+1):\n",
    "    current_value = monthly_capital + current_value*(1+rate_b/freq)\n",
    "    deposit_value.append(current_value)\n",
    "    \n",
    "for t in deposit_value:\n",
    "    print(round(t,2))\n",
    "    \n",
    "    "
   ]
  },
  {
   "cell_type": "code",
   "execution_count": 66,
   "id": "86d3f4fa",
   "metadata": {},
   "outputs": [
    {
     "data": {
      "text/plain": [
       "Text(0, 0.5, 'Wartość mieszkania')"
      ]
     },
     "execution_count": 66,
     "metadata": {},
     "output_type": "execute_result"
    },
    {
     "data": {
      "image/png": "[encoded data removed]",
      "text/plain": [
       "<Figure size 432x288 with 1 Axes>"
      ]
     },
     "metadata": {
      "needs_background": "light"
     },
     "output_type": "display_data"
    }
   ],
   "source": [
    "import matplotlib.pyplot as plt\n",
    "\n",
    "plt.plot(price_m_linear,label='cena mieszkania')\n",
    "plt.plot(deposit_value,label='wartość lokaty')\n",
    "plt.legend()\n",
    "plt.xlabel('Liczba miesięcy')\n",
    "plt.ylabel('Wartość mieszkania')"
   ]
  },
  {
   "cell_type": "code",
   "execution_count": null,
   "id": "1b596367",
   "metadata": {},
   "outputs": [],
   "source": []
  }
 ],
 "metadata": {
  "kernelspec": {
   "display_name": "Python 3 (ipykernel)",
   "language": "python",
   "name": "python3"
  },
  "language_info": {
   "codemirror_mode": {
    "name": "ipython",
    "version": 3
   },
   "file_extension": ".py",
   "mimetype": "text/x-python",
   "name": "python",
   "nbconvert_exporter": "python",
   "pygments_lexer": "ipython3",
   "version": "3.9.12"
  }
 },
 "nbformat": 4,
 "nbformat_minor": 5
}
